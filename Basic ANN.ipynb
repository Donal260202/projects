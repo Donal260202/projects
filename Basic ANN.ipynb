{
 "cells": [
  {
   "cell_type": "code",
   "execution_count": 3,
   "id": "b65a9230",
   "metadata": {},
   "outputs": [],
   "source": [
    "import tensorflow as tf\n",
    "from tensorflow.keras import datasets,layers\n",
    "from tensorflow.keras import models\n",
    "import matplotlib.pyplot as plt\n",
    "import numpy as np\n",
    "import pandas as pd"
   ]
  },
  {
   "cell_type": "code",
   "execution_count": 4,
   "id": "6f745c68",
   "metadata": {},
   "outputs": [
    {
     "name": "stderr",
     "output_type": "stream",
     "text": [
      "C:\\Users\\ashwi\\AppData\\Local\\Temp\\ipykernel_23436\\1030408220.py:1: DtypeWarning: Columns (92) have mixed types. Specify dtype option on import or set low_memory=False.\n",
      "  data= pd.read_csv(\"C:\\\\Users\\\\ashwi\\\\Downloads\\\\archive (1)\\\\drebin-215-dataset-5560malware-9476-benign.csv\")\n"
     ]
    }
   ],
   "source": [
    "data= pd.read_csv(\"C:\\\\Users\\\\ashwi\\\\Downloads\\\\archive (1)\\\\drebin-215-dataset-5560malware-9476-benign.csv\")"
   ]
  },
  {
   "cell_type": "code",
   "execution_count": 5,
   "id": "93fd05e7",
   "metadata": {},
   "outputs": [
    {
     "data": {
      "text/plain": [
       "0        S\n",
       "1        S\n",
       "2        S\n",
       "3        S\n",
       "4        S\n",
       "        ..\n",
       "15031    B\n",
       "15032    B\n",
       "15033    B\n",
       "15034    B\n",
       "15035    B\n",
       "Name: class, Length: 15036, dtype: object"
      ]
     },
     "execution_count": 5,
     "metadata": {},
     "output_type": "execute_result"
    }
   ],
   "source": [
    "data['class']"
   ]
  },
  {
   "cell_type": "code",
   "execution_count": 6,
   "id": "512371f2",
   "metadata": {},
   "outputs": [
    {
     "name": "stdout",
     "output_type": "stream",
     "text": [
      "the data has 15036 rows and 216 columns\n"
     ]
    }
   ],
   "source": [
    "print(\"the data has {} rows and {} columns\".format(data.shape[0],data.shape[1]))"
   ]
  },
  {
   "cell_type": "code",
   "execution_count": 7,
   "id": "88a3d9a5",
   "metadata": {},
   "outputs": [
    {
     "data": {
      "text/plain": [
       "(15036, 216)"
      ]
     },
     "execution_count": 7,
     "metadata": {},
     "output_type": "execute_result"
    }
   ],
   "source": [
    "data.shape"
   ]
  },
  {
   "cell_type": "code",
   "execution_count": 8,
   "id": "3c488f7b",
   "metadata": {},
   "outputs": [
    {
     "name": "stdout",
     "output_type": "stream",
     "text": [
      "Index(['TelephonyManager.getSimCountryIso', 'class'], dtype='object')\n"
     ]
    }
   ],
   "source": [
    "object_columns = data.select_dtypes(include=['object']).columns\n",
    "print(object_columns)"
   ]
  },
  {
   "cell_type": "code",
   "execution_count": 9,
   "id": "22b1412d",
   "metadata": {},
   "outputs": [],
   "source": [
    "data=data.drop(['TelephonyManager.getSimCountryIso'], axis=1)"
   ]
  },
  {
   "cell_type": "code",
   "execution_count": 10,
   "id": "7a068646",
   "metadata": {},
   "outputs": [
    {
     "data": {
      "text/plain": [
       "(15036, 215)"
      ]
     },
     "execution_count": 10,
     "metadata": {},
     "output_type": "execute_result"
    }
   ],
   "source": [
    "data.shape"
   ]
  },
  {
   "cell_type": "code",
   "execution_count": 11,
   "id": "68d7b6e5",
   "metadata": {},
   "outputs": [
    {
     "data": {
      "text/html": [
       "<div>\n",
       "<style scoped>\n",
       "    .dataframe tbody tr th:only-of-type {\n",
       "        vertical-align: middle;\n",
       "    }\n",
       "\n",
       "    .dataframe tbody tr th {\n",
       "        vertical-align: top;\n",
       "    }\n",
       "\n",
       "    .dataframe thead th {\n",
       "        text-align: right;\n",
       "    }\n",
       "</style>\n",
       "<table border=\"1\" class=\"dataframe\">\n",
       "  <thead>\n",
       "    <tr style=\"text-align: right;\">\n",
       "      <th></th>\n",
       "      <th>transact</th>\n",
       "      <th>onServiceConnected</th>\n",
       "      <th>bindService</th>\n",
       "      <th>attachInterface</th>\n",
       "      <th>ServiceConnection</th>\n",
       "      <th>android.os.Binder</th>\n",
       "      <th>SEND_SMS</th>\n",
       "      <th>Ljava.lang.Class.getCanonicalName</th>\n",
       "      <th>Ljava.lang.Class.getMethods</th>\n",
       "      <th>Ljava.lang.Class.cast</th>\n",
       "      <th>...</th>\n",
       "      <th>READ_CONTACTS</th>\n",
       "      <th>DEVICE_POWER</th>\n",
       "      <th>HARDWARE_TEST</th>\n",
       "      <th>ACCESS_WIFI_STATE</th>\n",
       "      <th>WRITE_EXTERNAL_STORAGE</th>\n",
       "      <th>ACCESS_FINE_LOCATION</th>\n",
       "      <th>SET_WALLPAPER_HINTS</th>\n",
       "      <th>SET_PREFERRED_APPLICATIONS</th>\n",
       "      <th>WRITE_SECURE_SETTINGS</th>\n",
       "      <th>class</th>\n",
       "    </tr>\n",
       "  </thead>\n",
       "  <tbody>\n",
       "    <tr>\n",
       "      <th>0</th>\n",
       "      <td>0</td>\n",
       "      <td>0</td>\n",
       "      <td>0</td>\n",
       "      <td>0</td>\n",
       "      <td>0</td>\n",
       "      <td>0</td>\n",
       "      <td>1</td>\n",
       "      <td>0</td>\n",
       "      <td>0</td>\n",
       "      <td>0</td>\n",
       "      <td>...</td>\n",
       "      <td>0</td>\n",
       "      <td>0</td>\n",
       "      <td>0</td>\n",
       "      <td>0</td>\n",
       "      <td>1</td>\n",
       "      <td>0</td>\n",
       "      <td>0</td>\n",
       "      <td>0</td>\n",
       "      <td>0</td>\n",
       "      <td>S</td>\n",
       "    </tr>\n",
       "    <tr>\n",
       "      <th>1</th>\n",
       "      <td>0</td>\n",
       "      <td>0</td>\n",
       "      <td>0</td>\n",
       "      <td>0</td>\n",
       "      <td>0</td>\n",
       "      <td>0</td>\n",
       "      <td>1</td>\n",
       "      <td>0</td>\n",
       "      <td>0</td>\n",
       "      <td>0</td>\n",
       "      <td>...</td>\n",
       "      <td>0</td>\n",
       "      <td>0</td>\n",
       "      <td>0</td>\n",
       "      <td>0</td>\n",
       "      <td>1</td>\n",
       "      <td>0</td>\n",
       "      <td>0</td>\n",
       "      <td>0</td>\n",
       "      <td>0</td>\n",
       "      <td>S</td>\n",
       "    </tr>\n",
       "    <tr>\n",
       "      <th>2</th>\n",
       "      <td>0</td>\n",
       "      <td>0</td>\n",
       "      <td>0</td>\n",
       "      <td>0</td>\n",
       "      <td>0</td>\n",
       "      <td>0</td>\n",
       "      <td>1</td>\n",
       "      <td>0</td>\n",
       "      <td>0</td>\n",
       "      <td>0</td>\n",
       "      <td>...</td>\n",
       "      <td>0</td>\n",
       "      <td>0</td>\n",
       "      <td>0</td>\n",
       "      <td>0</td>\n",
       "      <td>0</td>\n",
       "      <td>0</td>\n",
       "      <td>0</td>\n",
       "      <td>0</td>\n",
       "      <td>0</td>\n",
       "      <td>S</td>\n",
       "    </tr>\n",
       "    <tr>\n",
       "      <th>3</th>\n",
       "      <td>0</td>\n",
       "      <td>0</td>\n",
       "      <td>0</td>\n",
       "      <td>0</td>\n",
       "      <td>0</td>\n",
       "      <td>0</td>\n",
       "      <td>0</td>\n",
       "      <td>0</td>\n",
       "      <td>0</td>\n",
       "      <td>1</td>\n",
       "      <td>...</td>\n",
       "      <td>0</td>\n",
       "      <td>0</td>\n",
       "      <td>0</td>\n",
       "      <td>1</td>\n",
       "      <td>1</td>\n",
       "      <td>1</td>\n",
       "      <td>0</td>\n",
       "      <td>0</td>\n",
       "      <td>0</td>\n",
       "      <td>S</td>\n",
       "    </tr>\n",
       "    <tr>\n",
       "      <th>4</th>\n",
       "      <td>0</td>\n",
       "      <td>0</td>\n",
       "      <td>0</td>\n",
       "      <td>0</td>\n",
       "      <td>0</td>\n",
       "      <td>0</td>\n",
       "      <td>0</td>\n",
       "      <td>0</td>\n",
       "      <td>0</td>\n",
       "      <td>0</td>\n",
       "      <td>...</td>\n",
       "      <td>0</td>\n",
       "      <td>0</td>\n",
       "      <td>0</td>\n",
       "      <td>1</td>\n",
       "      <td>0</td>\n",
       "      <td>1</td>\n",
       "      <td>0</td>\n",
       "      <td>0</td>\n",
       "      <td>0</td>\n",
       "      <td>S</td>\n",
       "    </tr>\n",
       "  </tbody>\n",
       "</table>\n",
       "<p>5 rows × 215 columns</p>\n",
       "</div>"
      ],
      "text/plain": [
       "   transact  onServiceConnected  bindService  attachInterface  \\\n",
       "0         0                   0            0                0   \n",
       "1         0                   0            0                0   \n",
       "2         0                   0            0                0   \n",
       "3         0                   0            0                0   \n",
       "4         0                   0            0                0   \n",
       "\n",
       "   ServiceConnection  android.os.Binder  SEND_SMS  \\\n",
       "0                  0                  0         1   \n",
       "1                  0                  0         1   \n",
       "2                  0                  0         1   \n",
       "3                  0                  0         0   \n",
       "4                  0                  0         0   \n",
       "\n",
       "   Ljava.lang.Class.getCanonicalName  Ljava.lang.Class.getMethods  \\\n",
       "0                                  0                            0   \n",
       "1                                  0                            0   \n",
       "2                                  0                            0   \n",
       "3                                  0                            0   \n",
       "4                                  0                            0   \n",
       "\n",
       "   Ljava.lang.Class.cast  ...  READ_CONTACTS  DEVICE_POWER  HARDWARE_TEST  \\\n",
       "0                      0  ...              0             0              0   \n",
       "1                      0  ...              0             0              0   \n",
       "2                      0  ...              0             0              0   \n",
       "3                      1  ...              0             0              0   \n",
       "4                      0  ...              0             0              0   \n",
       "\n",
       "   ACCESS_WIFI_STATE  WRITE_EXTERNAL_STORAGE  ACCESS_FINE_LOCATION  \\\n",
       "0                  0                       1                     0   \n",
       "1                  0                       1                     0   \n",
       "2                  0                       0                     0   \n",
       "3                  1                       1                     1   \n",
       "4                  1                       0                     1   \n",
       "\n",
       "   SET_WALLPAPER_HINTS  SET_PREFERRED_APPLICATIONS  WRITE_SECURE_SETTINGS  \\\n",
       "0                    0                           0                      0   \n",
       "1                    0                           0                      0   \n",
       "2                    0                           0                      0   \n",
       "3                    0                           0                      0   \n",
       "4                    0                           0                      0   \n",
       "\n",
       "   class  \n",
       "0      S  \n",
       "1      S  \n",
       "2      S  \n",
       "3      S  \n",
       "4      S  \n",
       "\n",
       "[5 rows x 215 columns]"
      ]
     },
     "execution_count": 11,
     "metadata": {},
     "output_type": "execute_result"
    }
   ],
   "source": [
    "data.head()"
   ]
  },
  {
   "cell_type": "code",
   "execution_count": 12,
   "id": "86fe71eb",
   "metadata": {},
   "outputs": [
    {
     "name": "stdout",
     "output_type": "stream",
     "text": [
      "<class 'pandas.core.frame.DataFrame'>\n",
      "RangeIndex: 15036 entries, 0 to 15035\n",
      "Columns: 215 entries, transact to class\n",
      "dtypes: int64(214), object(1)\n",
      "memory usage: 24.7+ MB\n"
     ]
    }
   ],
   "source": [
    "data.info()"
   ]
  },
  {
   "cell_type": "code",
   "execution_count": 13,
   "id": "4fd16895",
   "metadata": {},
   "outputs": [
    {
     "name": "stdout",
     "output_type": "stream",
     "text": [
      "missing values in any column are :0\n"
     ]
    }
   ],
   "source": [
    "print(\"missing values in any column are :{}\".format(data.isnull().sum().max()))"
   ]
  },
  {
   "cell_type": "code",
   "execution_count": 14,
   "id": "14e39ba7",
   "metadata": {},
   "outputs": [
    {
     "data": {
      "text/html": [
       "<div>\n",
       "<style scoped>\n",
       "    .dataframe tbody tr th:only-of-type {\n",
       "        vertical-align: middle;\n",
       "    }\n",
       "\n",
       "    .dataframe tbody tr th {\n",
       "        vertical-align: top;\n",
       "    }\n",
       "\n",
       "    .dataframe thead th {\n",
       "        text-align: right;\n",
       "    }\n",
       "</style>\n",
       "<table border=\"1\" class=\"dataframe\">\n",
       "  <thead>\n",
       "    <tr style=\"text-align: right;\">\n",
       "      <th></th>\n",
       "      <th>transact</th>\n",
       "      <th>onServiceConnected</th>\n",
       "      <th>bindService</th>\n",
       "      <th>attachInterface</th>\n",
       "      <th>ServiceConnection</th>\n",
       "      <th>android.os.Binder</th>\n",
       "      <th>SEND_SMS</th>\n",
       "      <th>Ljava.lang.Class.getCanonicalName</th>\n",
       "      <th>Ljava.lang.Class.getMethods</th>\n",
       "      <th>Ljava.lang.Class.cast</th>\n",
       "      <th>...</th>\n",
       "      <th>SET_ORIENTATION</th>\n",
       "      <th>READ_CONTACTS</th>\n",
       "      <th>DEVICE_POWER</th>\n",
       "      <th>HARDWARE_TEST</th>\n",
       "      <th>ACCESS_WIFI_STATE</th>\n",
       "      <th>WRITE_EXTERNAL_STORAGE</th>\n",
       "      <th>ACCESS_FINE_LOCATION</th>\n",
       "      <th>SET_WALLPAPER_HINTS</th>\n",
       "      <th>SET_PREFERRED_APPLICATIONS</th>\n",
       "      <th>WRITE_SECURE_SETTINGS</th>\n",
       "    </tr>\n",
       "  </thead>\n",
       "  <tbody>\n",
       "    <tr>\n",
       "      <th>count</th>\n",
       "      <td>15036.000000</td>\n",
       "      <td>15036.000000</td>\n",
       "      <td>15036.000000</td>\n",
       "      <td>15036.000000</td>\n",
       "      <td>15036.000000</td>\n",
       "      <td>15036.000000</td>\n",
       "      <td>15036.000000</td>\n",
       "      <td>15036.000000</td>\n",
       "      <td>15036.000000</td>\n",
       "      <td>15036.000000</td>\n",
       "      <td>...</td>\n",
       "      <td>15036.000000</td>\n",
       "      <td>15036.000000</td>\n",
       "      <td>15036.000000</td>\n",
       "      <td>15036.000000</td>\n",
       "      <td>15036.000000</td>\n",
       "      <td>15036.000000</td>\n",
       "      <td>15036.000000</td>\n",
       "      <td>15036.000000</td>\n",
       "      <td>15036.000000</td>\n",
       "      <td>15036.000000</td>\n",
       "    </tr>\n",
       "    <tr>\n",
       "      <th>mean</th>\n",
       "      <td>0.426443</td>\n",
       "      <td>0.446595</td>\n",
       "      <td>0.442671</td>\n",
       "      <td>0.413208</td>\n",
       "      <td>0.444932</td>\n",
       "      <td>0.486898</td>\n",
       "      <td>0.236632</td>\n",
       "      <td>0.330806</td>\n",
       "      <td>0.282389</td>\n",
       "      <td>0.312583</td>\n",
       "      <td>...</td>\n",
       "      <td>0.007050</td>\n",
       "      <td>0.233307</td>\n",
       "      <td>0.017425</td>\n",
       "      <td>0.004256</td>\n",
       "      <td>0.434424</td>\n",
       "      <td>0.666135</td>\n",
       "      <td>0.290835</td>\n",
       "      <td>0.016028</td>\n",
       "      <td>0.007050</td>\n",
       "      <td>0.044959</td>\n",
       "    </tr>\n",
       "    <tr>\n",
       "      <th>std</th>\n",
       "      <td>0.494576</td>\n",
       "      <td>0.497156</td>\n",
       "      <td>0.496719</td>\n",
       "      <td>0.492426</td>\n",
       "      <td>0.496975</td>\n",
       "      <td>0.499845</td>\n",
       "      <td>0.425029</td>\n",
       "      <td>0.470519</td>\n",
       "      <td>0.450177</td>\n",
       "      <td>0.463561</td>\n",
       "      <td>...</td>\n",
       "      <td>0.083669</td>\n",
       "      <td>0.422950</td>\n",
       "      <td>0.130852</td>\n",
       "      <td>0.065105</td>\n",
       "      <td>0.495698</td>\n",
       "      <td>0.471608</td>\n",
       "      <td>0.454163</td>\n",
       "      <td>0.125588</td>\n",
       "      <td>0.083669</td>\n",
       "      <td>0.207220</td>\n",
       "    </tr>\n",
       "    <tr>\n",
       "      <th>min</th>\n",
       "      <td>0.000000</td>\n",
       "      <td>0.000000</td>\n",
       "      <td>0.000000</td>\n",
       "      <td>0.000000</td>\n",
       "      <td>0.000000</td>\n",
       "      <td>0.000000</td>\n",
       "      <td>0.000000</td>\n",
       "      <td>0.000000</td>\n",
       "      <td>0.000000</td>\n",
       "      <td>0.000000</td>\n",
       "      <td>...</td>\n",
       "      <td>0.000000</td>\n",
       "      <td>0.000000</td>\n",
       "      <td>0.000000</td>\n",
       "      <td>0.000000</td>\n",
       "      <td>0.000000</td>\n",
       "      <td>0.000000</td>\n",
       "      <td>0.000000</td>\n",
       "      <td>0.000000</td>\n",
       "      <td>0.000000</td>\n",
       "      <td>0.000000</td>\n",
       "    </tr>\n",
       "    <tr>\n",
       "      <th>25%</th>\n",
       "      <td>0.000000</td>\n",
       "      <td>0.000000</td>\n",
       "      <td>0.000000</td>\n",
       "      <td>0.000000</td>\n",
       "      <td>0.000000</td>\n",
       "      <td>0.000000</td>\n",
       "      <td>0.000000</td>\n",
       "      <td>0.000000</td>\n",
       "      <td>0.000000</td>\n",
       "      <td>0.000000</td>\n",
       "      <td>...</td>\n",
       "      <td>0.000000</td>\n",
       "      <td>0.000000</td>\n",
       "      <td>0.000000</td>\n",
       "      <td>0.000000</td>\n",
       "      <td>0.000000</td>\n",
       "      <td>0.000000</td>\n",
       "      <td>0.000000</td>\n",
       "      <td>0.000000</td>\n",
       "      <td>0.000000</td>\n",
       "      <td>0.000000</td>\n",
       "    </tr>\n",
       "    <tr>\n",
       "      <th>50%</th>\n",
       "      <td>0.000000</td>\n",
       "      <td>0.000000</td>\n",
       "      <td>0.000000</td>\n",
       "      <td>0.000000</td>\n",
       "      <td>0.000000</td>\n",
       "      <td>0.000000</td>\n",
       "      <td>0.000000</td>\n",
       "      <td>0.000000</td>\n",
       "      <td>0.000000</td>\n",
       "      <td>0.000000</td>\n",
       "      <td>...</td>\n",
       "      <td>0.000000</td>\n",
       "      <td>0.000000</td>\n",
       "      <td>0.000000</td>\n",
       "      <td>0.000000</td>\n",
       "      <td>0.000000</td>\n",
       "      <td>1.000000</td>\n",
       "      <td>0.000000</td>\n",
       "      <td>0.000000</td>\n",
       "      <td>0.000000</td>\n",
       "      <td>0.000000</td>\n",
       "    </tr>\n",
       "    <tr>\n",
       "      <th>75%</th>\n",
       "      <td>1.000000</td>\n",
       "      <td>1.000000</td>\n",
       "      <td>1.000000</td>\n",
       "      <td>1.000000</td>\n",
       "      <td>1.000000</td>\n",
       "      <td>1.000000</td>\n",
       "      <td>0.000000</td>\n",
       "      <td>1.000000</td>\n",
       "      <td>1.000000</td>\n",
       "      <td>1.000000</td>\n",
       "      <td>...</td>\n",
       "      <td>0.000000</td>\n",
       "      <td>0.000000</td>\n",
       "      <td>0.000000</td>\n",
       "      <td>0.000000</td>\n",
       "      <td>1.000000</td>\n",
       "      <td>1.000000</td>\n",
       "      <td>1.000000</td>\n",
       "      <td>0.000000</td>\n",
       "      <td>0.000000</td>\n",
       "      <td>0.000000</td>\n",
       "    </tr>\n",
       "    <tr>\n",
       "      <th>max</th>\n",
       "      <td>1.000000</td>\n",
       "      <td>1.000000</td>\n",
       "      <td>1.000000</td>\n",
       "      <td>1.000000</td>\n",
       "      <td>1.000000</td>\n",
       "      <td>1.000000</td>\n",
       "      <td>1.000000</td>\n",
       "      <td>1.000000</td>\n",
       "      <td>1.000000</td>\n",
       "      <td>1.000000</td>\n",
       "      <td>...</td>\n",
       "      <td>1.000000</td>\n",
       "      <td>1.000000</td>\n",
       "      <td>1.000000</td>\n",
       "      <td>1.000000</td>\n",
       "      <td>1.000000</td>\n",
       "      <td>1.000000</td>\n",
       "      <td>1.000000</td>\n",
       "      <td>1.000000</td>\n",
       "      <td>1.000000</td>\n",
       "      <td>1.000000</td>\n",
       "    </tr>\n",
       "  </tbody>\n",
       "</table>\n",
       "<p>8 rows × 214 columns</p>\n",
       "</div>"
      ],
      "text/plain": [
       "           transact  onServiceConnected   bindService  attachInterface  \\\n",
       "count  15036.000000        15036.000000  15036.000000     15036.000000   \n",
       "mean       0.426443            0.446595      0.442671         0.413208   \n",
       "std        0.494576            0.497156      0.496719         0.492426   \n",
       "min        0.000000            0.000000      0.000000         0.000000   \n",
       "25%        0.000000            0.000000      0.000000         0.000000   \n",
       "50%        0.000000            0.000000      0.000000         0.000000   \n",
       "75%        1.000000            1.000000      1.000000         1.000000   \n",
       "max        1.000000            1.000000      1.000000         1.000000   \n",
       "\n",
       "       ServiceConnection  android.os.Binder      SEND_SMS  \\\n",
       "count       15036.000000       15036.000000  15036.000000   \n",
       "mean            0.444932           0.486898      0.236632   \n",
       "std             0.496975           0.499845      0.425029   \n",
       "min             0.000000           0.000000      0.000000   \n",
       "25%             0.000000           0.000000      0.000000   \n",
       "50%             0.000000           0.000000      0.000000   \n",
       "75%             1.000000           1.000000      0.000000   \n",
       "max             1.000000           1.000000      1.000000   \n",
       "\n",
       "       Ljava.lang.Class.getCanonicalName  Ljava.lang.Class.getMethods  \\\n",
       "count                       15036.000000                 15036.000000   \n",
       "mean                            0.330806                     0.282389   \n",
       "std                             0.470519                     0.450177   \n",
       "min                             0.000000                     0.000000   \n",
       "25%                             0.000000                     0.000000   \n",
       "50%                             0.000000                     0.000000   \n",
       "75%                             1.000000                     1.000000   \n",
       "max                             1.000000                     1.000000   \n",
       "\n",
       "       Ljava.lang.Class.cast  ...  SET_ORIENTATION  READ_CONTACTS  \\\n",
       "count           15036.000000  ...     15036.000000   15036.000000   \n",
       "mean                0.312583  ...         0.007050       0.233307   \n",
       "std                 0.463561  ...         0.083669       0.422950   \n",
       "min                 0.000000  ...         0.000000       0.000000   \n",
       "25%                 0.000000  ...         0.000000       0.000000   \n",
       "50%                 0.000000  ...         0.000000       0.000000   \n",
       "75%                 1.000000  ...         0.000000       0.000000   \n",
       "max                 1.000000  ...         1.000000       1.000000   \n",
       "\n",
       "       DEVICE_POWER  HARDWARE_TEST  ACCESS_WIFI_STATE  WRITE_EXTERNAL_STORAGE  \\\n",
       "count  15036.000000   15036.000000       15036.000000            15036.000000   \n",
       "mean       0.017425       0.004256           0.434424                0.666135   \n",
       "std        0.130852       0.065105           0.495698                0.471608   \n",
       "min        0.000000       0.000000           0.000000                0.000000   \n",
       "25%        0.000000       0.000000           0.000000                0.000000   \n",
       "50%        0.000000       0.000000           0.000000                1.000000   \n",
       "75%        0.000000       0.000000           1.000000                1.000000   \n",
       "max        1.000000       1.000000           1.000000                1.000000   \n",
       "\n",
       "       ACCESS_FINE_LOCATION  SET_WALLPAPER_HINTS  SET_PREFERRED_APPLICATIONS  \\\n",
       "count          15036.000000         15036.000000                15036.000000   \n",
       "mean               0.290835             0.016028                    0.007050   \n",
       "std                0.454163             0.125588                    0.083669   \n",
       "min                0.000000             0.000000                    0.000000   \n",
       "25%                0.000000             0.000000                    0.000000   \n",
       "50%                0.000000             0.000000                    0.000000   \n",
       "75%                1.000000             0.000000                    0.000000   \n",
       "max                1.000000             1.000000                    1.000000   \n",
       "\n",
       "       WRITE_SECURE_SETTINGS  \n",
       "count           15036.000000  \n",
       "mean                0.044959  \n",
       "std                 0.207220  \n",
       "min                 0.000000  \n",
       "25%                 0.000000  \n",
       "50%                 0.000000  \n",
       "75%                 0.000000  \n",
       "max                 1.000000  \n",
       "\n",
       "[8 rows x 214 columns]"
      ]
     },
     "execution_count": 14,
     "metadata": {},
     "output_type": "execute_result"
    }
   ],
   "source": [
    "data.describe()"
   ]
  },
  {
   "cell_type": "code",
   "execution_count": 15,
   "id": "617e38d9",
   "metadata": {},
   "outputs": [],
   "source": [
    "data['class']=data['class'].map({'S':1,'B':0})"
   ]
  },
  {
   "cell_type": "code",
   "execution_count": 17,
   "id": "b0e27cfe",
   "metadata": {},
   "outputs": [],
   "source": [
    "from sklearn.preprocessing import LabelEncoder\n",
    "labelencoder_y = LabelEncoder()\n",
    "data.iloc[:,214]=labelencoder_y.fit_transform(data.iloc[:,214].values)"
   ]
  },
  {
   "cell_type": "code",
   "execution_count": 19,
   "id": "8bc8b28a",
   "metadata": {},
   "outputs": [],
   "source": [
    "X=data.iloc[:,0:214].values\n",
    "y=data.iloc[:,214].values"
   ]
  },
  {
   "cell_type": "code",
   "execution_count": 20,
   "id": "d6ae3243",
   "metadata": {},
   "outputs": [],
   "source": [
    "from sklearn.model_selection import train_test_split\n",
    "X_train,X_test,y_train,y_test=train_test_split(X,y,test_size=0.20,random_state=0)"
   ]
  },
  {
   "cell_type": "code",
   "execution_count": 35,
   "id": "e0304780",
   "metadata": {},
   "outputs": [
    {
     "data": {
      "text/plain": [
       "(3008, 214)"
      ]
     },
     "execution_count": 35,
     "metadata": {},
     "output_type": "execute_result"
    }
   ],
   "source": [
    "X_test.shape"
   ]
  },
  {
   "cell_type": "code",
   "execution_count": 43,
   "id": "c560de27",
   "metadata": {},
   "outputs": [
    {
     "name": "stdout",
     "output_type": "stream",
     "text": [
      "Epoch 1/15\n",
      "376/376 [==============================] - 74s 192ms/step - loss: 0.5508 - accuracy: 0.8865\n",
      "Epoch 2/15\n",
      "376/376 [==============================] - 72s 191ms/step - loss: 0.1212 - accuracy: 0.9615\n",
      "Epoch 3/15\n",
      "376/376 [==============================] - 73s 194ms/step - loss: 0.0872 - accuracy: 0.9696\n",
      "Epoch 4/15\n",
      "376/376 [==============================] - 73s 194ms/step - loss: 0.0730 - accuracy: 0.9740\n",
      "Epoch 5/15\n",
      "376/376 [==============================] - 72s 192ms/step - loss: 0.0657 - accuracy: 0.9776\n",
      "Epoch 6/15\n",
      "376/376 [==============================] - 82s 219ms/step - loss: 0.0597 - accuracy: 0.9796\n",
      "Epoch 7/15\n",
      "376/376 [==============================] - 81s 215ms/step - loss: 0.0556 - accuracy: 0.9824\n",
      "Epoch 8/15\n",
      "376/376 [==============================] - 77s 205ms/step - loss: 0.0500 - accuracy: 0.9840\n",
      "Epoch 9/15\n",
      "376/376 [==============================] - 87s 232ms/step - loss: 0.0448 - accuracy: 0.9864\n",
      "Epoch 10/15\n",
      "376/376 [==============================] - 102s 270ms/step - loss: 0.0419 - accuracy: 0.9874\n",
      "Epoch 11/15\n",
      "376/376 [==============================] - 102s 272ms/step - loss: 0.0399 - accuracy: 0.9882\n",
      "Epoch 12/15\n",
      "376/376 [==============================] - 95s 252ms/step - loss: 0.0350 - accuracy: 0.9899\n",
      "Epoch 13/15\n",
      "376/376 [==============================] - 86s 228ms/step - loss: 0.0322 - accuracy: 0.9909\n",
      "Epoch 14/15\n",
      "376/376 [==============================] - 76s 203ms/step - loss: 0.0287 - accuracy: 0.9916\n",
      "Epoch 15/15\n",
      "376/376 [==============================] - 76s 202ms/step - loss: 0.0289 - accuracy: 0.9914\n"
     ]
    },
    {
     "data": {
      "text/plain": [
       "<keras.callbacks.History at 0x1db82e59af0>"
      ]
     },
     "execution_count": 43,
     "metadata": {},
     "output_type": "execute_result"
    }
   ],
   "source": [
    "ann = models.Sequential([\n",
    "    layers.Dense(5000, activation='relu'),\n",
    "    layers.Dense(4000, activation='relu'),\n",
    "    layers.Dense(3000, activation='relu'),\n",
    "    layers.Dense(2000,activation='relu'),\n",
    "    layers.Dense(100, activation='sigmoid')\n",
    "])\n",
    "ann.compile(optimizer='SGD',\n",
    "           loss = 'sparse_categorical_crossentropy',\n",
    "           metrics = ['accuracy'])\n",
    "ann.fit(X_train , y_train , epochs=15)"
   ]
  },
  {
   "cell_type": "code",
   "execution_count": 44,
   "id": "0794d8a6",
   "metadata": {},
   "outputs": [],
   "source": [
    "ann.compile(optimizer='adam',\n",
    "           loss = 'sparse_categorical_crossentropy',\n",
    "           metrics = ['accuracy'])"
   ]
  },
  {
   "cell_type": "code",
   "execution_count": 45,
   "id": "2d1df514",
   "metadata": {},
   "outputs": [
    {
     "name": "stdout",
     "output_type": "stream",
     "text": [
      "94/94 [==============================] - 4s 39ms/step - loss: 0.0476 - accuracy: 0.9877\n"
     ]
    },
    {
     "data": {
      "text/plain": [
       "[0.047592952847480774, 0.9876994490623474]"
      ]
     },
     "execution_count": 45,
     "metadata": {},
     "output_type": "execute_result"
    }
   ],
   "source": [
    "ann.evaluate(X_test,y_test)"
   ]
  },
  {
   "cell_type": "code",
   "execution_count": null,
   "id": "22e96176",
   "metadata": {},
   "outputs": [],
   "source": []
  }
 ],
 "metadata": {
  "kernelspec": {
   "display_name": "Python 3 (ipykernel)",
   "language": "python",
   "name": "python3"
  },
  "language_info": {
   "codemirror_mode": {
    "name": "ipython",
    "version": 3
   },
   "file_extension": ".py",
   "mimetype": "text/x-python",
   "name": "python",
   "nbconvert_exporter": "python",
   "pygments_lexer": "ipython3",
   "version": "3.9.12"
  }
 },
 "nbformat": 4,
 "nbformat_minor": 5
}
