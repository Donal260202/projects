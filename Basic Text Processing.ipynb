{
 "cells": [
  {
   "cell_type": "code",
   "execution_count": 1,
   "id": "14a50bf9",
   "metadata": {},
   "outputs": [],
   "source": [
    "import nltk"
   ]
  },
  {
   "cell_type": "code",
   "execution_count": 2,
   "id": "a7f40ea3",
   "metadata": {},
   "outputs": [
    {
     "name": "stdout",
     "output_type": "stream",
     "text": [
      "Original Document: This is a sample document. It contains multiple sentences. We will perform preprocessing on this document.\n",
      "Tokenization: ['This', 'is', 'a', 'sample', 'document', '.', 'It', 'contains', 'multiple', 'sentences', '.', 'We', 'will', 'perform', 'preprocessing', 'on', 'this', 'document', '.']\n",
      "POS Tagging: [('This', 'DT'), ('is', 'VBZ'), ('a', 'DT'), ('sample', 'JJ'), ('document', 'NN'), ('.', '.'), ('It', 'PRP'), ('contains', 'VBZ'), ('multiple', 'JJ'), ('sentences', 'NNS'), ('.', '.'), ('We', 'PRP'), ('will', 'MD'), ('perform', 'VB'), ('preprocessing', 'VBG'), ('on', 'IN'), ('this', 'DT'), ('document', 'NN'), ('.', '.')]\n",
      "Stop Words Removal: ['sample', 'document', '.', 'contains', 'multiple', 'sentences', '.', 'perform', 'preprocessing', 'document', '.']\n",
      "Stemming: ['sampl', 'document', '.', 'contain', 'multipl', 'sentenc', '.', 'perform', 'preprocess', 'document', '.']\n",
      "Lemmatization: ['sample', 'document', '.', 'contains', 'multiple', 'sentence', '.', 'perform', 'preprocessing', 'document', '.']\n",
      "Term Frequency and Inverse Document Frequency: [[0.22941573 0.45883147 0.22941573 0.22941573 0.22941573 0.22941573\n",
      "  0.22941573 0.22941573 0.22941573 0.22941573 0.45883147 0.22941573\n",
      "  0.22941573]]\n"
     ]
    }
   ],
   "source": [
    "import nltk\n",
    "from nltk.corpus import stopwords\n",
    "from nltk.tokenize import word_tokenize\n",
    "from nltk.stem import PorterStemmer, WordNetLemmatizer\n",
    "from sklearn.feature_extraction.text import TfidfVectorizer\n",
    "\n",
    "# Sample document\n",
    "document = \"This is a sample document. It contains multiple sentences. We will perform preprocessing on this document.\"\n",
    "\n",
    "# Tokenization\n",
    "tokens = word_tokenize(document)\n",
    "\n",
    "# POS Tagging\n",
    "pos_tags = nltk.pos_tag(tokens)\n",
    "\n",
    "# Stop words removal\n",
    "stop_words = set(stopwords.words('english'))\n",
    "filtered_tokens = [word for word in tokens if word.lower() not in stop_words]\n",
    "\n",
    "# Stemming\n",
    "stemmer = PorterStemmer()\n",
    "stemmed_tokens = [stemmer.stem(word) for word in filtered_tokens]\n",
    "\n",
    "# Lemmatization\n",
    "lemmatizer = WordNetLemmatizer()\n",
    "lemmatized_tokens = [lemmatizer.lemmatize(word) for word in filtered_tokens]\n",
    "\n",
    "# Calculate Term Frequency and Inverse Document Frequency\n",
    "tfidf_vectorizer = TfidfVectorizer()\n",
    "tfidf_matrix = tfidf_vectorizer.fit_transform([document])\n",
    "\n",
    "# Print the results\n",
    "print(\"Original Document:\", document)\n",
    "print(\"Tokenization:\", tokens)\n",
    "print(\"POS Tagging:\", pos_tags)\n",
    "print(\"Stop Words Removal:\", filtered_tokens)\n",
    "print(\"Stemming:\", stemmed_tokens)\n",
    "print(\"Lemmatization:\", lemmatized_tokens)\n",
    "print(\"Term Frequency and Inverse Document Frequency:\", tfidf_matrix.toarray())\n"
   ]
  },
  {
   "cell_type": "code",
   "execution_count": null,
   "id": "86d322ef",
   "metadata": {},
   "outputs": [],
   "source": []
  }
 ],
 "metadata": {
  "kernelspec": {
   "display_name": "Python 3 (ipykernel)",
   "language": "python",
   "name": "python3"
  },
  "language_info": {
   "codemirror_mode": {
    "name": "ipython",
    "version": 3
   },
   "file_extension": ".py",
   "mimetype": "text/x-python",
   "name": "python",
   "nbconvert_exporter": "python",
   "pygments_lexer": "ipython3",
   "version": "3.9.12"
  }
 },
 "nbformat": 4,
 "nbformat_minor": 5
}
